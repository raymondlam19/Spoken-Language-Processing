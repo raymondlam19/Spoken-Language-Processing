{
 "cells": [
  {
   "cell_type": "code",
   "execution_count": 1,
   "metadata": {},
   "outputs": [],
   "source": [
    "import os"
   ]
  },
  {
   "cell_type": "markdown",
   "metadata": {},
   "source": [
    "# 1) Manipulating Audio Files using PyDub"
   ]
  },
  {
   "cell_type": "code",
   "execution_count": 2,
   "metadata": {},
   "outputs": [],
   "source": [
    "# !pip install pydub\n",
    "\n",
    "from pydub import AudioSegment\n",
    "from pydub.effects import normalize"
   ]
  },
  {
   "cell_type": "code",
   "execution_count": 3,
   "metadata": {},
   "outputs": [],
   "source": [
    "# Create function to convert audio file to wav\n",
    "def convert_to_wav(filename):\n",
    "    \"\"\"Takes an audio file of non .wav format and converts to .wav\"\"\"\n",
    "    # Import audio file\n",
    "    audio = AudioSegment.from_file(filename)\n",
    "    \n",
    "    # Select first 60s of the audio file\n",
    "    audio = audio[:60000]\n",
    "    \n",
    "    # Create new filename\n",
    "    new_filename = os.path.splitext(os.path.basename(filename))[0] + \".wav\"\n",
    "    \n",
    "    # Export file as .wav\n",
    "    audio.export('./input/wav/'+new_filename, format='wav')\n",
    "    print(f\"Converting {filename} to {'./input/wav/'+new_filename}...\")"
   ]
  },
  {
   "cell_type": "code",
   "execution_count": 4,
   "metadata": {},
   "outputs": [],
   "source": [
    "def show_pydub_stats(filename):\n",
    "    \"\"\"Returns different audio attributes related to an audio file.\"\"\"\n",
    "    # Create AudioSegment instance\n",
    "    audio_segment = AudioSegment.from_file(filename)\n",
    "    \n",
    "    # Print audio attributes and return AudioSegment instance\n",
    "    print(f\"Channels: {audio_segment.channels}\")\n",
    "    print(f\"Sample width: {audio_segment.sample_width}\")\n",
    "    print(f\"Frame rate (sample rate): {audio_segment.frame_rate}\")\n",
    "    print(f\"Frame width: {audio_segment.frame_width}\")\n",
    "    print(f\"Length (ms): {len(audio_segment)}\")\n",
    "    return audio_segment"
   ]
  },
  {
   "cell_type": "markdown",
   "metadata": {},
   "source": [
    "# 2) Speech Recognition using free google api"
   ]
  },
  {
   "cell_type": "code",
   "execution_count": 5,
   "metadata": {},
   "outputs": [],
   "source": [
    "# !pip install SpeechRecognition\n",
    "\n",
    "import speech_recognition as sr"
   ]
  },
  {
   "cell_type": "code",
   "execution_count": 6,
   "metadata": {},
   "outputs": [],
   "source": [
    "def transcribe_audio(filename):\n",
    "    \"\"\"Takes a .wav format audio file and transcribes it to text.\"\"\"\n",
    "    # Setup a recognizer instance\n",
    "    recognizer = sr.Recognizer()\n",
    "    \n",
    "    # Import the audio file and convert to audio data\n",
    "    audio_file = sr.AudioFile(filename)\n",
    "\n",
    "    with audio_file as source:\n",
    "        audio_data = recognizer.record(source)\n",
    "    \n",
    "    # Return the transcribed text\n",
    "    return recognizer.recognize_google(audio_data)"
   ]
  },
  {
   "cell_type": "code",
   "execution_count": 7,
   "metadata": {},
   "outputs": [
    {
     "name": "stdout",
     "output_type": "stream",
     "text": [
      "Converting ./input/mp3/speech1.mp3 to ./input/wav/speech1.wav...\n",
      "Channels: 2\n",
      "Sample width: 2\n",
      "Frame rate (sample rate): 44100\n",
      "Frame width: 4\n",
      "Length (ms): 60000\n",
      "----------------------------------------------------------------------------------\n",
      "Dr Brooks said about the virus now being extraordinarily widespread in this country in rural areas in urban areas with the president lashed out at her but he was pressed about this late today and her White House course planner breach of Scott tonight calling her pathetic after she wore in the pandemic has entered a new phase and the virus is extraordinarily widespread the virus is receding in hotspots across the South and West we've seen slow improvement this is the first time the president has probably gone after coronavirus taskforce coordinator where's The West Wing office in Breaston regularly\n"
     ]
    }
   ],
   "source": [
    "# Convert mp3 file to wav\n",
    "convert_to_wav('./input/mp3/speech1.mp3')\n",
    "\n",
    "# Check the stats of new file\n",
    "speech1 = show_pydub_stats(\"./input/wav/speech1.wav\")\n",
    "\n",
    "# Transcribe wav file\n",
    "# print(transcribe_audio(\"./input/wav/speech1.wav\"))\n",
    "\n",
    "print('----------------------------------------------------------------------------------')\n",
    "\n",
    "# Split speech1 to mono (in order to have smaller size)\n",
    "speech1_split = speech1.split_to_mono()\n",
    "\n",
    "# Export channel 2 \n",
    "speech1_split[1].export(\"./input/wav/speech1_channel_2.wav\", format=\"wav\")\n",
    "\n",
    "# Transcribe the single channel\n",
    "print(transcribe_audio(\"./input/wav/speech1_channel_2.wav\"))"
   ]
  },
  {
   "cell_type": "markdown",
   "metadata": {},
   "source": [
    "# A) nltk"
   ]
  },
  {
   "cell_type": "code",
   "execution_count": 8,
   "metadata": {},
   "outputs": [],
   "source": [
    "# !pip install nltk\n",
    "\n",
    "# import nltk\n",
    "# nltk.download('vader_lexicon')\n",
    "# nltk.download('punkt')\n",
    "\n",
    "from nltk import sent_tokenize\n",
    "from nltk.sentiment.vader import SentimentIntensityAnalyzer"
   ]
  },
  {
   "cell_type": "markdown",
   "metadata": {},
   "source": [
    "### 1) Sentiment analysis"
   ]
  },
  {
   "cell_type": "code",
   "execution_count": 9,
   "metadata": {},
   "outputs": [
    {
     "name": "stdout",
     "output_type": "stream",
     "text": [
      "Dr Brooks said about the virus now being extraordinarily widespread in this country in rural areas in urban areas with the president lashed out at her but he was pressed about this late today and her White House course planner breach of Scott tonight calling her pathetic after she wore in the pandemic has entered a new phase and the virus is extraordinarily widespread the virus is receding in hotspots across the South and West we've seen slow improvement this is the first time the president has probably gone after coronavirus taskforce coordinator where's The West Wing office in Breaston regularly\n",
      "{'neg': 0.047, 'neu': 0.915, 'pos': 0.037, 'compound': -0.2617}\n"
     ]
    }
   ],
   "source": [
    "# Create SentimentIntensityAnalyzer instance\n",
    "sid = SentimentIntensityAnalyzer()\n",
    "\n",
    "# Transcribe the single channel\n",
    "speech1_text = transcribe_audio(\"./input/wav/speech1_channel_2.wav\")\n",
    "\n",
    "# Display text and sentiment polarity scores\n",
    "print(speech1_text)\n",
    "print(sid.polarity_scores(speech1_text))"
   ]
  },
  {
   "cell_type": "markdown",
   "metadata": {},
   "source": [
    "### 2) doc splits into sentences"
   ]
  },
  {
   "cell_type": "code",
   "execution_count": 10,
   "metadata": {},
   "outputs": [
    {
     "name": "stdout",
     "output_type": "stream",
     "text": [
      "Dr Brooks said about the virus now being extraordinarily widespread in this country in rural areas in urban areas with the president lashed out at her but he was pressed about this late today and her White House course planner breach of Scott tonight calling her pathetic after she wore in the pandemic has entered a new phase and the virus is extraordinarily widespread the virus is receding in hotspots across the South and West we've seen slow improvement this is the first time the president has probably gone after coronavirus taskforce coordinator where's The West Wing office in Breaston regularly\n",
      "{'neg': 0.047, 'neu': 0.915, 'pos': 0.037, 'compound': -0.2617}\n"
     ]
    }
   ],
   "source": [
    "'''If paid google speech recognition api was used, it can provide texts with full stop between sentences'''\n",
    "\n",
    "# Split speech1_text into sentences and score each\n",
    "for sentence in sent_tokenize(speech1_text):\n",
    "    print(sentence)\n",
    "    print(sid.polarity_scores(sentence))"
   ]
  },
  {
   "cell_type": "markdown",
   "metadata": {},
   "source": [
    "## B) spaCy"
   ]
  },
  {
   "cell_type": "code",
   "execution_count": 11,
   "metadata": {},
   "outputs": [],
   "source": [
    "# !python -m spacy download en_core_web_sm"
   ]
  },
  {
   "cell_type": "code",
   "execution_count": 12,
   "metadata": {},
   "outputs": [
    {
     "name": "stdout",
     "output_type": "stream",
     "text": [
      "<class 'spacy.tokens.doc.Doc'>\n"
     ]
    }
   ],
   "source": [
    "import spacy\n",
    "\n",
    "# Transcribe the single channel\n",
    "# speech1_text = transcribe_audio(\"./input/wav/speech1_channel_2.wav\")\n",
    "\n",
    "# Create a spaCy language model instance\n",
    "nlp = spacy.load(\"en\")\n",
    "\n",
    "# Create a spaCy doc with call 4 channel 2 text\n",
    "doc = nlp(speech1_text)\n",
    "\n",
    "# Check the type of doc\n",
    "print(type(doc))"
   ]
  },
  {
   "cell_type": "markdown",
   "metadata": {},
   "source": [
    "### 1) tokenization"
   ]
  },
  {
   "cell_type": "code",
   "execution_count": 13,
   "metadata": {},
   "outputs": [
    {
     "name": "stdout",
     "output_type": "stream",
     "text": [
      "Dr 0\n",
      "Brooks 3\n",
      "said 10\n",
      "about 15\n",
      "the 21\n",
      "virus 25\n",
      "now 31\n",
      "being 35\n",
      "extraordinarily 41\n",
      "widespread 57\n",
      "in 68\n",
      "this 71\n",
      "country 76\n",
      "in 84\n",
      "rural 87\n",
      "areas 93\n",
      "in 99\n",
      "urban 102\n",
      "areas 108\n",
      "with 114\n",
      "the 119\n",
      "president 123\n",
      "lashed 133\n",
      "out 140\n",
      "at 144\n",
      "her 147\n",
      "but 151\n",
      "he 155\n",
      "was 158\n",
      "pressed 162\n",
      "about 170\n",
      "this 176\n",
      "late 181\n",
      "today 186\n",
      "and 192\n",
      "her 196\n",
      "White 200\n",
      "House 206\n",
      "course 212\n",
      "planner 219\n",
      "breach 227\n",
      "of 234\n",
      "Scott 237\n",
      "tonight 243\n",
      "calling 251\n",
      "her 259\n",
      "pathetic 263\n",
      "after 272\n",
      "she 278\n",
      "wore 282\n",
      "in 287\n",
      "the 290\n",
      "pandemic 294\n",
      "has 303\n",
      "entered 307\n",
      "a 315\n",
      "new 317\n",
      "phase 321\n",
      "and 327\n",
      "the 331\n",
      "virus 335\n",
      "is 341\n",
      "extraordinarily 344\n",
      "widespread 360\n",
      "the 371\n",
      "virus 375\n",
      "is 381\n",
      "receding 384\n",
      "in 393\n",
      "hotspots 396\n",
      "across 405\n",
      "the 412\n",
      "South 416\n",
      "and 422\n",
      "West 426\n",
      "we 431\n",
      "'ve 433\n",
      "seen 437\n",
      "slow 442\n",
      "improvement 447\n",
      "this 459\n",
      "is 464\n",
      "the 467\n",
      "first 471\n",
      "time 477\n",
      "the 482\n",
      "president 486\n",
      "has 496\n",
      "probably 500\n",
      "gone 509\n",
      "after 514\n",
      "coronavirus 520\n",
      "taskforce 532\n",
      "coordinator 542\n",
      "where 554\n",
      "'s 559\n",
      "The 562\n",
      "West 566\n",
      "Wing 571\n",
      "office 576\n",
      "in 583\n",
      "Breaston 586\n",
      "regularly 595\n"
     ]
    }
   ],
   "source": [
    "# Show tokens in doc\n",
    "for token in doc:\n",
    "    print(token.text, token.idx)"
   ]
  },
  {
   "cell_type": "markdown",
   "metadata": {},
   "source": [
    "### 2) doc splits into sentences"
   ]
  },
  {
   "cell_type": "code",
   "execution_count": 14,
   "metadata": {},
   "outputs": [
    {
     "name": "stdout",
     "output_type": "stream",
     "text": [
      "Dr Brooks said about the virus now being extraordinarily widespread in this country in rural areas in urban areas with the president lashed out at her but he was pressed about this late today and her White House course planner breach of Scott tonight calling her pathetic after she wore in the pandemic has entered a new phase and the virus is extraordinarily widespread the virus is receding in hotspots across the South and West we've seen slow improvement\n",
      "\n",
      "this is the first time the president has probably gone after coronavirus taskforce coordinator where's The West Wing office in Breaston regularly\n",
      "\n"
     ]
    }
   ],
   "source": [
    "for sentence in doc.sents:\n",
    "    print(sentence)\n",
    "    print('')"
   ]
  },
  {
   "cell_type": "markdown",
   "metadata": {},
   "source": [
    "### 3) Name entity"
   ]
  },
  {
   "cell_type": "code",
   "execution_count": 15,
   "metadata": {},
   "outputs": [
    {
     "name": "stdout",
     "output_type": "stream",
     "text": [
      "Brooks ORG\n",
      "about this late today DATE\n",
      "White House ORG\n",
      "Scott GPE\n",
      "tonight TIME\n",
      "South LOC\n",
      "West LOC\n",
      "first ORDINAL\n",
      "West Wing GPE\n",
      "Breaston PERSON\n"
     ]
    }
   ],
   "source": [
    "for entity in doc.ents:\n",
    "    print(entity.text, entity.label_)"
   ]
  },
  {
   "cell_type": "code",
   "execution_count": null,
   "metadata": {},
   "outputs": [],
   "source": []
  }
 ],
 "metadata": {
  "kernelspec": {
   "display_name": "Python 3",
   "language": "python",
   "name": "python3"
  },
  "language_info": {
   "codemirror_mode": {
    "name": "ipython",
    "version": 3
   },
   "file_extension": ".py",
   "mimetype": "text/x-python",
   "name": "python",
   "nbconvert_exporter": "python",
   "pygments_lexer": "ipython3",
   "version": "3.6.10"
  }
 },
 "nbformat": 4,
 "nbformat_minor": 4
}
